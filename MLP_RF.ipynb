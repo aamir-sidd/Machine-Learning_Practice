{
  "nbformat": 4,
  "nbformat_minor": 0,
  "metadata": {
    "colab": {
      "provenance": []
    },
    "kernelspec": {
      "name": "python3",
      "display_name": "Python 3"
    },
    "language_info": {
      "name": "python"
    }
  },
  "cells": [
    {
      "cell_type": "code",
      "execution_count": 3,
      "metadata": {
        "id": "QtWjqP5K9H9N"
      },
      "outputs": [],
      "source": [
        "import numpy as np # linear algebra\n",
        "import pandas as pd # data processing, CSV file I/O (e.g. pd.read_csv)\n",
        "\n",
        "# Input data files are available in the read-only \"../input/\" directory\n",
        "# For example, running this (by clicking run or pressing Shift+Enter) will list all files under the input directory\n",
        "\n",
        "import os\n",
        "for dirname, _, filenames in os.walk('/kaggle/input'):\n",
        "    for filename in filenames:\n",
        "        print(os.path.join(dirname, filename))\n"
      ]
    },
    {
      "cell_type": "code",
      "source": [
        "import pandas as pd\n",
        "from sklearn.model_selection import train_test_split\n",
        "from sklearn.feature_extraction.text import TfidfVectorizer\n",
        "from sklearn.ensemble import RandomForestClassifier\n",
        "from sklearn.metrics import accuracy_score\n",
        "\n",
        "\n",
        "train_data = pd.read_csv(\"train.csv\")\n",
        "test_data = pd.read_csv(\"test.csv\")\n",
        "\n",
        "# Filling missing values with an empty string\n",
        "train_data['reviewText'] = train_data['reviewText'].fillna('')\n",
        "test_data['reviewText'] = test_data['reviewText'].fillna('')\n",
        "\n",
        "# Train-Test Split\n",
        "X_train, X_val, y_train, y_val = train_test_split(train_data['reviewText'], train_data['sentiment'], test_size=0.2, random_state=42)\n",
        "\n",
        "# Feature Engineering (Tfidf Vectorizer)\n",
        "vectorizer = TfidfVectorizer(max_features=10000, ngram_range=(1, 2), sublinear_tf=True, use_idf=True)\n",
        "X_train_vectorized = vectorizer.fit_transform(X_train)\n",
        "X_val_vectorized = vectorizer.transform(X_val)\n",
        "\n",
        "# Model Training (Random Forest Classifier)\n",
        "classifier = RandomForestClassifier(n_estimators=100, random_state=42)\n",
        "classifier.fit(X_train_vectorized, y_train)\n",
        "\n",
        "# Model Evaluation\n",
        "y_pred_val = classifier.predict(X_val_vectorized)\n",
        "accuracy_val = accuracy_score(y_val, y_pred_val)\n",
        "print(\"Validation Accuracy (Random Forest):\", accuracy_val)\n",
        "\n",
        "# Model Prediction on Test Set\n",
        "X_test_vectorized = vectorizer.transform(test_data['reviewText'])\n",
        "y_pred_test = classifier.predict(X_test_vectorized)\n",
        "\n",
        "submission_df = pd.DataFrame({'id': test_data['movieid'], 'sentiment': y_pred_test})\n",
        "submission_df.to_csv(\"submission.csv\", index=False)\n"
      ],
      "metadata": {
        "colab": {
          "base_uri": "https://localhost:8080/"
        },
        "id": "EQwomSKl9T43",
        "outputId": "5dcc0635-55fb-4f20-f0ba-92b186f8af03"
      },
      "execution_count": 5,
      "outputs": [
        {
          "output_type": "stream",
          "name": "stdout",
          "text": [
            "Validation Accuracy (Random Forest): 0.7525190464487589\n"
          ]
        }
      ]
    }
  ]
}